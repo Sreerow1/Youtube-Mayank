{
  "cells": [
    {
      "cell_type": "markdown",
      "id": "6893ab6f-9a72-493c-9099-634217749358",
      "metadata": {
        "id": "6893ab6f-9a72-493c-9099-634217749358"
      },
      "source": [
        "# Concatenation"
      ]
    },
    {
      "cell_type": "code",
      "execution_count": null,
      "id": "b41f452c-b1f7-4aab-b80e-392422614c48",
      "metadata": {
        "id": "b41f452c-b1f7-4aab-b80e-392422614c48"
      },
      "outputs": [],
      "source": [
        "a = '1'\n",
        "b = '2'\n",
        "c = a+b"
      ]
    },
    {
      "cell_type": "code",
      "execution_count": null,
      "id": "ce528230-988c-4b88-b45e-21fe27b80733",
      "metadata": {
        "id": "ce528230-988c-4b88-b45e-21fe27b80733",
        "outputId": "dddb4090-574e-438f-8c47-7ba1e95c01e8"
      },
      "outputs": [
        {
          "name": "stdout",
          "output_type": "stream",
          "text": [
            "12\n"
          ]
        }
      ],
      "source": [
        "print(c)"
      ]
    },
    {
      "cell_type": "code",
      "execution_count": null,
      "id": "b97306c2-8e4b-4b92-b184-c305d963dc27",
      "metadata": {
        "id": "b97306c2-8e4b-4b92-b184-c305d963dc27"
      },
      "outputs": [],
      "source": [
        "s1 = \"hello\"\n",
        "s2 = \"python\""
      ]
    },
    {
      "cell_type": "code",
      "execution_count": null,
      "id": "b72d9440-21c7-410e-94ea-e5bb7e16e5bb",
      "metadata": {
        "id": "b72d9440-21c7-410e-94ea-e5bb7e16e5bb",
        "outputId": "465abed8-c489-4ba9-f771-1317f3a37f5d"
      },
      "outputs": [
        {
          "data": {
            "text/plain": [
              "'hellopython'"
            ]
          },
          "execution_count": 7,
          "metadata": {},
          "output_type": "execute_result"
        }
      ],
      "source": [
        "s1+s2"
      ]
    },
    {
      "cell_type": "code",
      "execution_count": null,
      "id": "869d6833-b115-4923-94ab-44134aa47539",
      "metadata": {
        "id": "869d6833-b115-4923-94ab-44134aa47539",
        "outputId": "660eb772-8770-46ce-c1b5-7655290710d4"
      },
      "outputs": [
        {
          "data": {
            "text/plain": [
              "'hello python'"
            ]
          },
          "execution_count": 9,
          "metadata": {},
          "output_type": "execute_result"
        }
      ],
      "source": [
        "s1 + \" \" + s2"
      ]
    },
    {
      "cell_type": "code",
      "execution_count": null,
      "id": "9119144d-4b65-40e2-9088-f8a3de19a165",
      "metadata": {
        "id": "9119144d-4b65-40e2-9088-f8a3de19a165",
        "outputId": "f4862e76-ab0a-48ba-f9e9-7c55cc83d608"
      },
      "outputs": [
        {
          "data": {
            "text/plain": [
              "'hellohellohello'"
            ]
          },
          "execution_count": 11,
          "metadata": {},
          "output_type": "execute_result"
        }
      ],
      "source": [
        "s1*3  # s1 + s1 +s1\n"
      ]
    },
    {
      "cell_type": "code",
      "execution_count": null,
      "id": "50fa2d25-7810-47d3-9d3d-f4a9b96a363d",
      "metadata": {
        "id": "50fa2d25-7810-47d3-9d3d-f4a9b96a363d",
        "outputId": "a9cf0373-7517-4043-9534-3b0737253c73"
      },
      "outputs": [
        {
          "name": "stdout",
          "output_type": "stream",
          "text": [
            "##########\n"
          ]
        }
      ],
      "source": [
        "print('#' * 10)"
      ]
    },
    {
      "cell_type": "code",
      "execution_count": null,
      "id": "6e963022-b5bb-4c73-92fc-306eedf5bb55",
      "metadata": {
        "id": "6e963022-b5bb-4c73-92fc-306eedf5bb55"
      },
      "outputs": [],
      "source": []
    },
    {
      "cell_type": "code",
      "execution_count": null,
      "id": "f7205f7a-8cb1-4624-99c7-751ddaf892f3",
      "metadata": {
        "id": "f7205f7a-8cb1-4624-99c7-751ddaf892f3",
        "outputId": "83a45fc4-3d0a-48c5-a1ec-6792cea729a2"
      },
      "outputs": [
        {
          "ename": "TypeError",
          "evalue": "unsupported operand type(s) for -: 'str' and 'str'",
          "output_type": "error",
          "traceback": [
            "\u001b[0;31m---------------------------------------------------------------------------\u001b[0m",
            "\u001b[0;31mTypeError\u001b[0m                                 Traceback (most recent call last)",
            "Cell \u001b[0;32mIn[22], line 1\u001b[0m\n\u001b[0;32m----> 1\u001b[0m s1 \u001b[38;5;241m-\u001b[39ms2\n",
            "\u001b[0;31mTypeError\u001b[0m: unsupported operand type(s) for -: 'str' and 'str'"
          ]
        }
      ],
      "source": [
        "s1 -s2"
      ]
    },
    {
      "cell_type": "code",
      "execution_count": null,
      "id": "92327261-c422-48bf-96ff-4e55e2931982",
      "metadata": {
        "id": "92327261-c422-48bf-96ff-4e55e2931982",
        "outputId": "950592f9-a604-4c27-c71e-3eb6f0a442c6"
      },
      "outputs": [
        {
          "ename": "TypeError",
          "evalue": "unsupported operand type(s) for /: 'str' and 'str'",
          "output_type": "error",
          "traceback": [
            "\u001b[0;31m---------------------------------------------------------------------------\u001b[0m",
            "\u001b[0;31mTypeError\u001b[0m                                 Traceback (most recent call last)",
            "Cell \u001b[0;32mIn[26], line 1\u001b[0m\n\u001b[0;32m----> 1\u001b[0m s1\u001b[38;5;241m/\u001b[39ms2\n",
            "\u001b[0;31mTypeError\u001b[0m: unsupported operand type(s) for /: 'str' and 'str'"
          ]
        }
      ],
      "source": [
        "s1/s2"
      ]
    },
    {
      "cell_type": "code",
      "execution_count": null,
      "id": "b524b427-2a1a-4a4d-a413-d7b6adc6af34",
      "metadata": {
        "id": "b524b427-2a1a-4a4d-a413-d7b6adc6af34"
      },
      "outputs": [],
      "source": []
    },
    {
      "cell_type": "code",
      "execution_count": null,
      "id": "cb77f154-cfcb-4b26-90fd-5b0671152dae",
      "metadata": {
        "id": "cb77f154-cfcb-4b26-90fd-5b0671152dae",
        "outputId": "041ba9c7-e8aa-49a2-f737-ce9485a97da6"
      },
      "outputs": [
        {
          "name": "stdin",
          "output_type": "stream",
          "text": [
            "enter a number 5\n"
          ]
        }
      ],
      "source": [
        "num1 = input('enter a number')\n"
      ]
    },
    {
      "cell_type": "code",
      "execution_count": null,
      "id": "db323989-e1da-4b1b-92c4-b6d647ab073b",
      "metadata": {
        "id": "db323989-e1da-4b1b-92c4-b6d647ab073b",
        "outputId": "36459e9a-b7ec-4075-f21b-a73d23df9a79"
      },
      "outputs": [
        {
          "name": "stdin",
          "output_type": "stream",
          "text": [
            "enter a number 10\n"
          ]
        }
      ],
      "source": [
        "num2 = input('enter a number')"
      ]
    },
    {
      "cell_type": "code",
      "execution_count": null,
      "id": "6d60294b-39a8-44f7-91b1-4d7c2c507446",
      "metadata": {
        "id": "6d60294b-39a8-44f7-91b1-4d7c2c507446",
        "outputId": "0b30e06a-39af-4754-88d1-72700443c8c8"
      },
      "outputs": [
        {
          "data": {
            "text/plain": [
              "'510'"
            ]
          },
          "execution_count": 32,
          "metadata": {},
          "output_type": "execute_result"
        }
      ],
      "source": [
        "num1 + num2"
      ]
    },
    {
      "cell_type": "code",
      "execution_count": null,
      "id": "43cd0355-4177-4349-9d87-0382394bd7f2",
      "metadata": {
        "id": "43cd0355-4177-4349-9d87-0382394bd7f2",
        "outputId": "ba685fd2-cac3-4115-abe4-faa2ac99bfed"
      },
      "outputs": [
        {
          "data": {
            "text/plain": [
              "str"
            ]
          },
          "execution_count": 34,
          "metadata": {},
          "output_type": "execute_result"
        }
      ],
      "source": [
        "type(num1)"
      ]
    },
    {
      "cell_type": "markdown",
      "id": "ff7908bf-6961-463e-bb5c-43b76c4ca6c5",
      "metadata": {
        "id": "ff7908bf-6961-463e-bb5c-43b76c4ca6c5"
      },
      "source": [
        "# slicing"
      ]
    },
    {
      "cell_type": "code",
      "execution_count": 2,
      "id": "8ea27e92-7f66-4461-a07b-4bf9d91bb1da",
      "metadata": {
        "id": "8ea27e92-7f66-4461-a07b-4bf9d91bb1da"
      },
      "outputs": [],
      "source": [
        "s = 'python'"
      ]
    },
    {
      "cell_type": "code",
      "execution_count": null,
      "id": "d9f96dd8-030c-4f95-bf04-47102d6e08a1",
      "metadata": {
        "id": "d9f96dd8-030c-4f95-bf04-47102d6e08a1",
        "outputId": "8fc3c812-76bc-4176-b996-f45d5ec3125e"
      },
      "outputs": [
        {
          "data": {
            "text/plain": [
              "'pyth'"
            ]
          },
          "execution_count": 43,
          "metadata": {},
          "output_type": "execute_result"
        }
      ],
      "source": [
        "s[0:4]"
      ]
    },
    {
      "cell_type": "code",
      "execution_count": null,
      "id": "b5d03cfc-9b56-473a-b4c1-440e532beb64",
      "metadata": {
        "id": "b5d03cfc-9b56-473a-b4c1-440e532beb64",
        "outputId": "f11d6cab-1b9d-496a-fb25-f0735a68962a"
      },
      "outputs": [
        {
          "data": {
            "text/plain": [
              "'python'"
            ]
          },
          "execution_count": 45,
          "metadata": {},
          "output_type": "execute_result"
        }
      ],
      "source": [
        "s[0:len(s)]"
      ]
    },
    {
      "cell_type": "code",
      "execution_count": null,
      "id": "00a47ec0-6a2a-4ea6-b357-d0b5206c0676",
      "metadata": {
        "id": "00a47ec0-6a2a-4ea6-b357-d0b5206c0676",
        "outputId": "a2c2aae7-0780-4328-a97e-5a77f224d041"
      },
      "outputs": [
        {
          "data": {
            "text/plain": [
              "'python'"
            ]
          },
          "execution_count": 47,
          "metadata": {},
          "output_type": "execute_result"
        }
      ],
      "source": [
        "s[0:6]"
      ]
    },
    {
      "cell_type": "code",
      "execution_count": null,
      "id": "77e9f9f9-c5a6-4bcf-99ee-86e47db63e1a",
      "metadata": {
        "id": "77e9f9f9-c5a6-4bcf-99ee-86e47db63e1a",
        "outputId": "e046edcb-7a3b-4754-9a0b-49d006141dda"
      },
      "outputs": [
        {
          "data": {
            "text/plain": [
              "'hon'"
            ]
          },
          "execution_count": 49,
          "metadata": {},
          "output_type": "execute_result"
        }
      ],
      "source": [
        "s[3:10]"
      ]
    },
    {
      "cell_type": "code",
      "execution_count": null,
      "id": "a8b66dd6-72d2-4984-83be-22d53558e0ef",
      "metadata": {
        "id": "a8b66dd6-72d2-4984-83be-22d53558e0ef",
        "outputId": "d9260aef-3128-4f9e-e7b5-a94ed6632b26"
      },
      "outputs": [
        {
          "data": {
            "text/plain": [
              "'hon'"
            ]
          },
          "execution_count": 51,
          "metadata": {},
          "output_type": "execute_result"
        }
      ],
      "source": [
        "s[3:6]"
      ]
    },
    {
      "cell_type": "code",
      "execution_count": null,
      "id": "57e2e15d-1f0f-4def-bf20-a2e54e8bb8d9",
      "metadata": {
        "id": "57e2e15d-1f0f-4def-bf20-a2e54e8bb8d9"
      },
      "outputs": [],
      "source": []
    },
    {
      "cell_type": "code",
      "execution_count": null,
      "id": "100e7689-585c-436e-a6a7-d542222b13a0",
      "metadata": {
        "id": "100e7689-585c-436e-a6a7-d542222b13a0",
        "outputId": "bd4e7d82-e3a7-4cf3-c4d1-39e5d37103ea"
      },
      "outputs": [
        {
          "data": {
            "text/plain": [
              "'python'"
            ]
          },
          "execution_count": 54,
          "metadata": {},
          "output_type": "execute_result"
        }
      ],
      "source": [
        "s[0:]"
      ]
    },
    {
      "cell_type": "code",
      "execution_count": null,
      "id": "5f4f0644-7c47-4ef1-a5fa-c44ef1e56484",
      "metadata": {
        "id": "5f4f0644-7c47-4ef1-a5fa-c44ef1e56484",
        "outputId": "fc2b3a9d-0fea-498b-99ba-5570884c78c8"
      },
      "outputs": [
        {
          "data": {
            "text/plain": [
              "'python'"
            ]
          },
          "execution_count": 56,
          "metadata": {},
          "output_type": "execute_result"
        }
      ],
      "source": [
        "s[:]"
      ]
    },
    {
      "cell_type": "code",
      "execution_count": null,
      "id": "1ba008ef-fddf-4d8a-8dc6-55094d33325d",
      "metadata": {
        "id": "1ba008ef-fddf-4d8a-8dc6-55094d33325d",
        "outputId": "0714c0ef-f08f-40e1-a9e0-e5b4619fd4c3"
      },
      "outputs": [
        {
          "data": {
            "text/plain": [
              "''"
            ]
          },
          "execution_count": 60,
          "metadata": {},
          "output_type": "execute_result"
        }
      ],
      "source": [
        "s[2:2]"
      ]
    },
    {
      "cell_type": "code",
      "execution_count": null,
      "id": "c2731bc2-66ad-453f-bd58-b9a0c72c8e69",
      "metadata": {
        "id": "c2731bc2-66ad-453f-bd58-b9a0c72c8e69",
        "outputId": "e4430944-34b8-485e-d8b9-fdd98556d627"
      },
      "outputs": [
        {
          "data": {
            "text/plain": [
              "''"
            ]
          },
          "execution_count": 64,
          "metadata": {},
          "output_type": "execute_result"
        }
      ],
      "source": [
        "s[4:0]"
      ]
    },
    {
      "cell_type": "code",
      "execution_count": null,
      "id": "55edc9ba-19e0-4b9e-a553-420481744ba5",
      "metadata": {
        "id": "55edc9ba-19e0-4b9e-a553-420481744ba5",
        "outputId": "e7e60c51-efe1-40cc-b3c2-76e610e640de"
      },
      "outputs": [
        {
          "data": {
            "text/plain": [
              "'python'"
            ]
          },
          "execution_count": 66,
          "metadata": {},
          "output_type": "execute_result"
        }
      ],
      "source": [
        "s"
      ]
    },
    {
      "cell_type": "code",
      "execution_count": null,
      "id": "85d4f05d-a090-4347-9c1d-5af8e5e4ce14",
      "metadata": {
        "id": "85d4f05d-a090-4347-9c1d-5af8e5e4ce14"
      },
      "outputs": [],
      "source": [
        "' p   y  t  h  o  n'\n",
        "' -6 -5 -4 -3 -2 -1'\n",
        "' 0   1  2  3  4  5'"
      ]
    },
    {
      "cell_type": "code",
      "execution_count": null,
      "id": "2ea5e5da-1308-4ed0-9595-554bc6d151ec",
      "metadata": {
        "id": "2ea5e5da-1308-4ed0-9595-554bc6d151ec",
        "outputId": "c4ebe064-9b11-4a9e-cf01-5b8f096da8a3"
      },
      "outputs": [
        {
          "data": {
            "text/plain": [
              "'yth'"
            ]
          },
          "execution_count": 70,
          "metadata": {},
          "output_type": "execute_result"
        }
      ],
      "source": [
        "s[-5:-2]"
      ]
    },
    {
      "cell_type": "code",
      "execution_count": 3,
      "id": "bc166da3-b197-4fc2-95ef-4a86a026e0e5",
      "metadata": {
        "id": "bc166da3-b197-4fc2-95ef-4a86a026e0e5",
        "outputId": "56723119-2633-44e5-c0ff-7936b23d727f",
        "colab": {
          "base_uri": "https://localhost:8080/",
          "height": 36
        }
      },
      "outputs": [
        {
          "output_type": "execute_result",
          "data": {
            "text/plain": [
              "'pyth'"
            ],
            "application/vnd.google.colaboratory.intrinsic+json": {
              "type": "string"
            }
          },
          "metadata": {},
          "execution_count": 3
        }
      ],
      "source": [
        "s[-6 : 4]"
      ]
    },
    {
      "cell_type": "code",
      "execution_count": null,
      "id": "0e291fa7-ce07-487e-b6d2-7056940f3596",
      "metadata": {
        "id": "0e291fa7-ce07-487e-b6d2-7056940f3596"
      },
      "outputs": [],
      "source": []
    },
    {
      "cell_type": "code",
      "execution_count": 4,
      "id": "ec75a743-62a0-481b-b529-5a5d765ab99e",
      "metadata": {
        "id": "ec75a743-62a0-481b-b529-5a5d765ab99e",
        "outputId": "78b2105f-c214-4753-ed62-a1a151aa0326",
        "colab": {
          "base_uri": "https://localhost:8080/",
          "height": 36
        }
      },
      "outputs": [
        {
          "output_type": "execute_result",
          "data": {
            "text/plain": [
              "'py'"
            ],
            "application/vnd.google.colaboratory.intrinsic+json": {
              "type": "string"
            }
          },
          "metadata": {},
          "execution_count": 4
        }
      ],
      "source": [
        "s[-6:-4]"
      ]
    },
    {
      "cell_type": "code",
      "source": [
        "s[-5:0]"
      ],
      "metadata": {
        "id": "5lg60WuWn88C",
        "outputId": "4f97f073-d6af-4c38-d8b5-0205f77ff64c",
        "colab": {
          "base_uri": "https://localhost:8080/",
          "height": 36
        }
      },
      "id": "5lg60WuWn88C",
      "execution_count": 5,
      "outputs": [
        {
          "output_type": "execute_result",
          "data": {
            "text/plain": [
              "''"
            ],
            "application/vnd.google.colaboratory.intrinsic+json": {
              "type": "string"
            }
          },
          "metadata": {},
          "execution_count": 5
        }
      ]
    }
  ],
  "metadata": {
    "kernelspec": {
      "display_name": "Python 3 (ipykernel)",
      "language": "python",
      "name": "python3"
    },
    "language_info": {
      "codemirror_mode": {
        "name": "ipython",
        "version": 3
      },
      "file_extension": ".py",
      "mimetype": "text/x-python",
      "name": "python",
      "nbconvert_exporter": "python",
      "pygments_lexer": "ipython3",
      "version": "3.11.5"
    },
    "colab": {
      "provenance": []
    }
  },
  "nbformat": 4,
  "nbformat_minor": 5
}